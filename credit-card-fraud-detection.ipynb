{
 "cells": [
  {
   "cell_type": "markdown",
   "id": "47ce3b32",
   "metadata": {
    "papermill": {
     "duration": 0.009822,
     "end_time": "2022-06-17T08:51:44.766168",
     "exception": false,
     "start_time": "2022-06-17T08:51:44.756346",
     "status": "completed"
    },
    "tags": []
   },
   "source": [
    "# Credit Card Fraud Detection Using Machine Learning & Python\n",
    "The dataset contains real bank transactions of the year 2013\n",
    "\n",
    "Starting with importing libraries and importing the dataset (creditcard.csv)"
   ]
  },
  {
   "cell_type": "code",
   "execution_count": 1,
   "id": "57004256",
   "metadata": {
    "execution": {
     "iopub.execute_input": "2022-06-17T08:51:44.781701Z",
     "iopub.status.busy": "2022-06-17T08:51:44.781064Z",
     "iopub.status.idle": "2022-06-17T08:51:45.860361Z",
     "shell.execute_reply": "2022-06-17T08:51:45.859545Z"
    },
    "papermill": {
     "duration": 1.090398,
     "end_time": "2022-06-17T08:51:45.862988",
     "exception": false,
     "start_time": "2022-06-17T08:51:44.772590",
     "status": "completed"
    },
    "tags": []
   },
   "outputs": [],
   "source": [
    "import numpy as np\n",
    "import pandas as pd\n",
    "import matplotlib.pyplot as plt\n",
    "import seaborn as sns"
   ]
  },
  {
   "cell_type": "code",
   "execution_count": 2,
   "id": "0294b161",
   "metadata": {
    "execution": {
     "iopub.execute_input": "2022-06-17T08:51:45.877102Z",
     "iopub.status.busy": "2022-06-17T08:51:45.876474Z",
     "iopub.status.idle": "2022-06-17T08:51:50.834304Z",
     "shell.execute_reply": "2022-06-17T08:51:50.833340Z"
    },
    "papermill": {
     "duration": 4.967838,
     "end_time": "2022-06-17T08:51:50.837119",
     "exception": false,
     "start_time": "2022-06-17T08:51:45.869281",
     "status": "completed"
    },
    "tags": []
   },
   "outputs": [
    {
     "data": {
      "text/html": [
       "<div>\n",
       "<style scoped>\n",
       "    .dataframe tbody tr th:only-of-type {\n",
       "        vertical-align: middle;\n",
       "    }\n",
       "\n",
       "    .dataframe tbody tr th {\n",
       "        vertical-align: top;\n",
       "    }\n",
       "\n",
       "    .dataframe thead th {\n",
       "        text-align: right;\n",
       "    }\n",
       "</style>\n",
       "<table border=\"1\" class=\"dataframe\">\n",
       "  <thead>\n",
       "    <tr style=\"text-align: right;\">\n",
       "      <th></th>\n",
       "      <th>Time</th>\n",
       "      <th>V1</th>\n",
       "      <th>V2</th>\n",
       "      <th>V3</th>\n",
       "      <th>V4</th>\n",
       "      <th>V5</th>\n",
       "      <th>V6</th>\n",
       "      <th>V7</th>\n",
       "      <th>V8</th>\n",
       "      <th>V9</th>\n",
       "      <th>...</th>\n",
       "      <th>V21</th>\n",
       "      <th>V22</th>\n",
       "      <th>V23</th>\n",
       "      <th>V24</th>\n",
       "      <th>V25</th>\n",
       "      <th>V26</th>\n",
       "      <th>V27</th>\n",
       "      <th>V28</th>\n",
       "      <th>Amount</th>\n",
       "      <th>Class</th>\n",
       "    </tr>\n",
       "  </thead>\n",
       "  <tbody>\n",
       "    <tr>\n",
       "      <th>0</th>\n",
       "      <td>0.0</td>\n",
       "      <td>-1.359807</td>\n",
       "      <td>-0.072781</td>\n",
       "      <td>2.536347</td>\n",
       "      <td>1.378155</td>\n",
       "      <td>-0.338321</td>\n",
       "      <td>0.462388</td>\n",
       "      <td>0.239599</td>\n",
       "      <td>0.098698</td>\n",
       "      <td>0.363787</td>\n",
       "      <td>...</td>\n",
       "      <td>-0.018307</td>\n",
       "      <td>0.277838</td>\n",
       "      <td>-0.110474</td>\n",
       "      <td>0.066928</td>\n",
       "      <td>0.128539</td>\n",
       "      <td>-0.189115</td>\n",
       "      <td>0.133558</td>\n",
       "      <td>-0.021053</td>\n",
       "      <td>149.62</td>\n",
       "      <td>0</td>\n",
       "    </tr>\n",
       "    <tr>\n",
       "      <th>1</th>\n",
       "      <td>0.0</td>\n",
       "      <td>1.191857</td>\n",
       "      <td>0.266151</td>\n",
       "      <td>0.166480</td>\n",
       "      <td>0.448154</td>\n",
       "      <td>0.060018</td>\n",
       "      <td>-0.082361</td>\n",
       "      <td>-0.078803</td>\n",
       "      <td>0.085102</td>\n",
       "      <td>-0.255425</td>\n",
       "      <td>...</td>\n",
       "      <td>-0.225775</td>\n",
       "      <td>-0.638672</td>\n",
       "      <td>0.101288</td>\n",
       "      <td>-0.339846</td>\n",
       "      <td>0.167170</td>\n",
       "      <td>0.125895</td>\n",
       "      <td>-0.008983</td>\n",
       "      <td>0.014724</td>\n",
       "      <td>2.69</td>\n",
       "      <td>0</td>\n",
       "    </tr>\n",
       "    <tr>\n",
       "      <th>2</th>\n",
       "      <td>1.0</td>\n",
       "      <td>-1.358354</td>\n",
       "      <td>-1.340163</td>\n",
       "      <td>1.773209</td>\n",
       "      <td>0.379780</td>\n",
       "      <td>-0.503198</td>\n",
       "      <td>1.800499</td>\n",
       "      <td>0.791461</td>\n",
       "      <td>0.247676</td>\n",
       "      <td>-1.514654</td>\n",
       "      <td>...</td>\n",
       "      <td>0.247998</td>\n",
       "      <td>0.771679</td>\n",
       "      <td>0.909412</td>\n",
       "      <td>-0.689281</td>\n",
       "      <td>-0.327642</td>\n",
       "      <td>-0.139097</td>\n",
       "      <td>-0.055353</td>\n",
       "      <td>-0.059752</td>\n",
       "      <td>378.66</td>\n",
       "      <td>0</td>\n",
       "    </tr>\n",
       "    <tr>\n",
       "      <th>3</th>\n",
       "      <td>1.0</td>\n",
       "      <td>-0.966272</td>\n",
       "      <td>-0.185226</td>\n",
       "      <td>1.792993</td>\n",
       "      <td>-0.863291</td>\n",
       "      <td>-0.010309</td>\n",
       "      <td>1.247203</td>\n",
       "      <td>0.237609</td>\n",
       "      <td>0.377436</td>\n",
       "      <td>-1.387024</td>\n",
       "      <td>...</td>\n",
       "      <td>-0.108300</td>\n",
       "      <td>0.005274</td>\n",
       "      <td>-0.190321</td>\n",
       "      <td>-1.175575</td>\n",
       "      <td>0.647376</td>\n",
       "      <td>-0.221929</td>\n",
       "      <td>0.062723</td>\n",
       "      <td>0.061458</td>\n",
       "      <td>123.50</td>\n",
       "      <td>0</td>\n",
       "    </tr>\n",
       "    <tr>\n",
       "      <th>4</th>\n",
       "      <td>2.0</td>\n",
       "      <td>-1.158233</td>\n",
       "      <td>0.877737</td>\n",
       "      <td>1.548718</td>\n",
       "      <td>0.403034</td>\n",
       "      <td>-0.407193</td>\n",
       "      <td>0.095921</td>\n",
       "      <td>0.592941</td>\n",
       "      <td>-0.270533</td>\n",
       "      <td>0.817739</td>\n",
       "      <td>...</td>\n",
       "      <td>-0.009431</td>\n",
       "      <td>0.798278</td>\n",
       "      <td>-0.137458</td>\n",
       "      <td>0.141267</td>\n",
       "      <td>-0.206010</td>\n",
       "      <td>0.502292</td>\n",
       "      <td>0.219422</td>\n",
       "      <td>0.215153</td>\n",
       "      <td>69.99</td>\n",
       "      <td>0</td>\n",
       "    </tr>\n",
       "  </tbody>\n",
       "</table>\n",
       "<p>5 rows × 31 columns</p>\n",
       "</div>"
      ],
      "text/plain": [
       "   Time        V1        V2        V3        V4        V5        V6        V7  \\\n",
       "0   0.0 -1.359807 -0.072781  2.536347  1.378155 -0.338321  0.462388  0.239599   \n",
       "1   0.0  1.191857  0.266151  0.166480  0.448154  0.060018 -0.082361 -0.078803   \n",
       "2   1.0 -1.358354 -1.340163  1.773209  0.379780 -0.503198  1.800499  0.791461   \n",
       "3   1.0 -0.966272 -0.185226  1.792993 -0.863291 -0.010309  1.247203  0.237609   \n",
       "4   2.0 -1.158233  0.877737  1.548718  0.403034 -0.407193  0.095921  0.592941   \n",
       "\n",
       "         V8        V9  ...       V21       V22       V23       V24       V25  \\\n",
       "0  0.098698  0.363787  ... -0.018307  0.277838 -0.110474  0.066928  0.128539   \n",
       "1  0.085102 -0.255425  ... -0.225775 -0.638672  0.101288 -0.339846  0.167170   \n",
       "2  0.247676 -1.514654  ...  0.247998  0.771679  0.909412 -0.689281 -0.327642   \n",
       "3  0.377436 -1.387024  ... -0.108300  0.005274 -0.190321 -1.175575  0.647376   \n",
       "4 -0.270533  0.817739  ... -0.009431  0.798278 -0.137458  0.141267 -0.206010   \n",
       "\n",
       "        V26       V27       V28  Amount  Class  \n",
       "0 -0.189115  0.133558 -0.021053  149.62      0  \n",
       "1  0.125895 -0.008983  0.014724    2.69      0  \n",
       "2 -0.139097 -0.055353 -0.059752  378.66      0  \n",
       "3 -0.221929  0.062723  0.061458  123.50      0  \n",
       "4  0.502292  0.219422  0.215153   69.99      0  \n",
       "\n",
       "[5 rows x 31 columns]"
      ]
     },
     "execution_count": 2,
     "metadata": {},
     "output_type": "execute_result"
    }
   ],
   "source": [
    "data = pd.read_csv('../input/creditcardfraud/creditcard.csv')\n",
    "data.head()"
   ]
  },
  {
   "cell_type": "markdown",
   "id": "489a00e8",
   "metadata": {
    "papermill": {
     "duration": 0.006133,
     "end_time": "2022-06-17T08:51:50.849751",
     "exception": false,
     "start_time": "2022-06-17T08:51:50.843618",
     "status": "completed"
    },
    "tags": []
   },
   "source": [
    "---\n",
    "### Data Understanding and Pre-processing\n",
    "\n",
    "We will look at the number of fradulent and legitimate transactions for getting a rough estimate about the percentage of fradulent cases. Even we will plot a correlation matrix so as to find any features showing strong correlation between them.\n",
    "\n",
    "We will also check for any null values in the dataset"
   ]
  },
  {
   "cell_type": "code",
   "execution_count": 3,
   "id": "ab816670",
   "metadata": {
    "execution": {
     "iopub.execute_input": "2022-06-17T08:51:50.864688Z",
     "iopub.status.busy": "2022-06-17T08:51:50.863802Z",
     "iopub.status.idle": "2022-06-17T08:51:51.082900Z",
     "shell.execute_reply": "2022-06-17T08:51:51.080999Z"
    },
    "papermill": {
     "duration": 0.228823,
     "end_time": "2022-06-17T08:51:51.084991",
     "exception": false,
     "start_time": "2022-06-17T08:51:50.856168",
     "status": "completed"
    },
    "tags": []
   },
   "outputs": [
    {
     "data": {
      "text/plain": [
       "<AxesSubplot:xlabel='Class', ylabel='count'>"
      ]
     },
     "execution_count": 3,
     "metadata": {},
     "output_type": "execute_result"
    },
    {
     "data": {
      "image/png": "[encoded data removed]",
      "text/plain": [
       "<Figure size 432x288 with 1 Axes>"
      ]
     },
     "metadata": {
      "needs_background": "light"
     },
     "output_type": "display_data"
    }
   ],
   "source": [
    "sns.countplot(data=data, x='Class')"
   ]
  },
  {
   "cell_type": "code",
   "execution_count": 4,
   "id": "4b03d75b",
   "metadata": {
    "execution": {
     "iopub.execute_input": "2022-06-17T08:51:51.099875Z",
     "iopub.status.busy": "2022-06-17T08:51:51.099476Z",
     "iopub.status.idle": "2022-06-17T08:51:52.268528Z",
     "shell.execute_reply": "2022-06-17T08:51:52.267461Z"
    },
    "papermill": {
     "duration": 1.178987,
     "end_time": "2022-06-17T08:51:52.270792",
     "exception": false,
     "start_time": "2022-06-17T08:51:51.091805",
     "status": "completed"
    },
    "tags": []
   },
   "outputs": [
    {
     "data": {
      "text/plain": [
       "<AxesSubplot:>"
      ]
     },
     "execution_count": 4,
     "metadata": {},
     "output_type": "execute_result"
    },
    {
     "data": {
      "image/png": "[encoded data removed]",
      "text/plain": [
       "<Figure size 432x288 with 2 Axes>"
      ]
     },
     "metadata": {
      "needs_background": "light"
     },
     "output_type": "display_data"
    }
   ],
   "source": [
    "sns.heatmap(data.corr(), cmap=\"RdBu\")"
   ]
  },
  {
   "cell_type": "code",
   "execution_count": 5,
   "id": "191006de",
   "metadata": {
    "execution": {
     "iopub.execute_input": "2022-06-17T08:51:52.287606Z",
     "iopub.status.busy": "2022-06-17T08:51:52.287187Z",
     "iopub.status.idle": "2022-06-17T08:51:52.330018Z",
     "shell.execute_reply": "2022-06-17T08:51:52.329026Z"
    },
    "papermill": {
     "duration": 0.054108,
     "end_time": "2022-06-17T08:51:52.332298",
     "exception": false,
     "start_time": "2022-06-17T08:51:52.278190",
     "status": "completed"
    },
    "tags": []
   },
   "outputs": [
    {
     "name": "stdout",
     "output_type": "stream",
     "text": [
      "Total Transactions =  284807\n",
      "Legitimate Transactions =  284315\n",
      "Fraud Transactions =  492\n"
     ]
    }
   ],
   "source": [
    "total_transactions = data.shape[0]\n",
    "legitimate_transactions = data[data[\"Class\"] == 0].shape[0]\n",
    "fraud_transactions = data[data[\"Class\"] == 1].shape[0]\n",
    "\n",
    "print(\"Total Transactions = \", total_transactions)\n",
    "print(\"Legitimate Transactions = \", legitimate_transactions)\n",
    "print(\"Fraud Transactions = \", fraud_transactions)"
   ]
  },
  {
   "cell_type": "code",
   "execution_count": 6,
   "id": "29a060fa",
   "metadata": {
    "execution": {
     "iopub.execute_input": "2022-06-17T08:51:52.349440Z",
     "iopub.status.busy": "2022-06-17T08:51:52.348792Z",
     "iopub.status.idle": "2022-06-17T08:51:52.843771Z",
     "shell.execute_reply": "2022-06-17T08:51:52.842747Z"
    },
    "papermill": {
     "duration": 0.506201,
     "end_time": "2022-06-17T08:51:52.846043",
     "exception": false,
     "start_time": "2022-06-17T08:51:52.339842",
     "status": "completed"
    },
    "tags": []
   },
   "outputs": [
    {
     "data": {
      "text/html": [
       "<div>\n",
       "<style scoped>\n",
       "    .dataframe tbody tr th:only-of-type {\n",
       "        vertical-align: middle;\n",
       "    }\n",
       "\n",
       "    .dataframe tbody tr th {\n",
       "        vertical-align: top;\n",
       "    }\n",
       "\n",
       "    .dataframe thead th {\n",
       "        text-align: right;\n",
       "    }\n",
       "</style>\n",
       "<table border=\"1\" class=\"dataframe\">\n",
       "  <thead>\n",
       "    <tr style=\"text-align: right;\">\n",
       "      <th></th>\n",
       "      <th>Time</th>\n",
       "      <th>V1</th>\n",
       "      <th>V2</th>\n",
       "      <th>V3</th>\n",
       "      <th>V4</th>\n",
       "      <th>V5</th>\n",
       "      <th>V6</th>\n",
       "      <th>V7</th>\n",
       "      <th>V8</th>\n",
       "      <th>V9</th>\n",
       "      <th>...</th>\n",
       "      <th>V21</th>\n",
       "      <th>V22</th>\n",
       "      <th>V23</th>\n",
       "      <th>V24</th>\n",
       "      <th>V25</th>\n",
       "      <th>V26</th>\n",
       "      <th>V27</th>\n",
       "      <th>V28</th>\n",
       "      <th>Amount</th>\n",
       "      <th>Class</th>\n",
       "    </tr>\n",
       "  </thead>\n",
       "  <tbody>\n",
       "    <tr>\n",
       "      <th>count</th>\n",
       "      <td>284807.000000</td>\n",
       "      <td>2.848070e+05</td>\n",
       "      <td>2.848070e+05</td>\n",
       "      <td>2.848070e+05</td>\n",
       "      <td>2.848070e+05</td>\n",
       "      <td>2.848070e+05</td>\n",
       "      <td>2.848070e+05</td>\n",
       "      <td>2.848070e+05</td>\n",
       "      <td>2.848070e+05</td>\n",
       "      <td>2.848070e+05</td>\n",
       "      <td>...</td>\n",
       "      <td>2.848070e+05</td>\n",
       "      <td>2.848070e+05</td>\n",
       "      <td>2.848070e+05</td>\n",
       "      <td>2.848070e+05</td>\n",
       "      <td>2.848070e+05</td>\n",
       "      <td>2.848070e+05</td>\n",
       "      <td>2.848070e+05</td>\n",
       "      <td>2.848070e+05</td>\n",
       "      <td>284807.000000</td>\n",
       "      <td>284807.000000</td>\n",
       "    </tr>\n",
       "    <tr>\n",
       "      <th>mean</th>\n",
       "      <td>94813.859575</td>\n",
       "      <td>1.168375e-15</td>\n",
       "      <td>3.416908e-16</td>\n",
       "      <td>-1.379537e-15</td>\n",
       "      <td>2.074095e-15</td>\n",
       "      <td>9.604066e-16</td>\n",
       "      <td>1.487313e-15</td>\n",
       "      <td>-5.556467e-16</td>\n",
       "      <td>1.213481e-16</td>\n",
       "      <td>-2.406331e-15</td>\n",
       "      <td>...</td>\n",
       "      <td>1.654067e-16</td>\n",
       "      <td>-3.568593e-16</td>\n",
       "      <td>2.578648e-16</td>\n",
       "      <td>4.473266e-15</td>\n",
       "      <td>5.340915e-16</td>\n",
       "      <td>1.683437e-15</td>\n",
       "      <td>-3.660091e-16</td>\n",
       "      <td>-1.227390e-16</td>\n",
       "      <td>88.349619</td>\n",
       "      <td>0.001727</td>\n",
       "    </tr>\n",
       "    <tr>\n",
       "      <th>std</th>\n",
       "      <td>47488.145955</td>\n",
       "      <td>1.958696e+00</td>\n",
       "      <td>1.651309e+00</td>\n",
       "      <td>1.516255e+00</td>\n",
       "      <td>1.415869e+00</td>\n",
       "      <td>1.380247e+00</td>\n",
       "      <td>1.332271e+00</td>\n",
       "      <td>1.237094e+00</td>\n",
       "      <td>1.194353e+00</td>\n",
       "      <td>1.098632e+00</td>\n",
       "      <td>...</td>\n",
       "      <td>7.345240e-01</td>\n",
       "      <td>7.257016e-01</td>\n",
       "      <td>6.244603e-01</td>\n",
       "      <td>6.056471e-01</td>\n",
       "      <td>5.212781e-01</td>\n",
       "      <td>4.822270e-01</td>\n",
       "      <td>4.036325e-01</td>\n",
       "      <td>3.300833e-01</td>\n",
       "      <td>250.120109</td>\n",
       "      <td>0.041527</td>\n",
       "    </tr>\n",
       "    <tr>\n",
       "      <th>min</th>\n",
       "      <td>0.000000</td>\n",
       "      <td>-5.640751e+01</td>\n",
       "      <td>-7.271573e+01</td>\n",
       "      <td>-4.832559e+01</td>\n",
       "      <td>-5.683171e+00</td>\n",
       "      <td>-1.137433e+02</td>\n",
       "      <td>-2.616051e+01</td>\n",
       "      <td>-4.355724e+01</td>\n",
       "      <td>-7.321672e+01</td>\n",
       "      <td>-1.343407e+01</td>\n",
       "      <td>...</td>\n",
       "      <td>-3.483038e+01</td>\n",
       "      <td>-1.093314e+01</td>\n",
       "      <td>-4.480774e+01</td>\n",
       "      <td>-2.836627e+00</td>\n",
       "      <td>-1.029540e+01</td>\n",
       "      <td>-2.604551e+00</td>\n",
       "      <td>-2.256568e+01</td>\n",
       "      <td>-1.543008e+01</td>\n",
       "      <td>0.000000</td>\n",
       "      <td>0.000000</td>\n",
       "    </tr>\n",
       "    <tr>\n",
       "      <th>25%</th>\n",
       "      <td>54201.500000</td>\n",
       "      <td>-9.203734e-01</td>\n",
       "      <td>-5.985499e-01</td>\n",
       "      <td>-8.903648e-01</td>\n",
       "      <td>-8.486401e-01</td>\n",
       "      <td>-6.915971e-01</td>\n",
       "      <td>-7.682956e-01</td>\n",
       "      <td>-5.540759e-01</td>\n",
       "      <td>-2.086297e-01</td>\n",
       "      <td>-6.430976e-01</td>\n",
       "      <td>...</td>\n",
       "      <td>-2.283949e-01</td>\n",
       "      <td>-5.423504e-01</td>\n",
       "      <td>-1.618463e-01</td>\n",
       "      <td>-3.545861e-01</td>\n",
       "      <td>-3.171451e-01</td>\n",
       "      <td>-3.269839e-01</td>\n",
       "      <td>-7.083953e-02</td>\n",
       "      <td>-5.295979e-02</td>\n",
       "      <td>5.600000</td>\n",
       "      <td>0.000000</td>\n",
       "    </tr>\n",
       "    <tr>\n",
       "      <th>50%</th>\n",
       "      <td>84692.000000</td>\n",
       "      <td>1.810880e-02</td>\n",
       "      <td>6.548556e-02</td>\n",
       "      <td>1.798463e-01</td>\n",
       "      <td>-1.984653e-02</td>\n",
       "      <td>-5.433583e-02</td>\n",
       "      <td>-2.741871e-01</td>\n",
       "      <td>4.010308e-02</td>\n",
       "      <td>2.235804e-02</td>\n",
       "      <td>-5.142873e-02</td>\n",
       "      <td>...</td>\n",
       "      <td>-2.945017e-02</td>\n",
       "      <td>6.781943e-03</td>\n",
       "      <td>-1.119293e-02</td>\n",
       "      <td>4.097606e-02</td>\n",
       "      <td>1.659350e-02</td>\n",
       "      <td>-5.213911e-02</td>\n",
       "      <td>1.342146e-03</td>\n",
       "      <td>1.124383e-02</td>\n",
       "      <td>22.000000</td>\n",
       "      <td>0.000000</td>\n",
       "    </tr>\n",
       "    <tr>\n",
       "      <th>75%</th>\n",
       "      <td>139320.500000</td>\n",
       "      <td>1.315642e+00</td>\n",
       "      <td>8.037239e-01</td>\n",
       "      <td>1.027196e+00</td>\n",
       "      <td>7.433413e-01</td>\n",
       "      <td>6.119264e-01</td>\n",
       "      <td>3.985649e-01</td>\n",
       "      <td>5.704361e-01</td>\n",
       "      <td>3.273459e-01</td>\n",
       "      <td>5.971390e-01</td>\n",
       "      <td>...</td>\n",
       "      <td>1.863772e-01</td>\n",
       "      <td>5.285536e-01</td>\n",
       "      <td>1.476421e-01</td>\n",
       "      <td>4.395266e-01</td>\n",
       "      <td>3.507156e-01</td>\n",
       "      <td>2.409522e-01</td>\n",
       "      <td>9.104512e-02</td>\n",
       "      <td>7.827995e-02</td>\n",
       "      <td>77.165000</td>\n",
       "      <td>0.000000</td>\n",
       "    </tr>\n",
       "    <tr>\n",
       "      <th>max</th>\n",
       "      <td>172792.000000</td>\n",
       "      <td>2.454930e+00</td>\n",
       "      <td>2.205773e+01</td>\n",
       "      <td>9.382558e+00</td>\n",
       "      <td>1.687534e+01</td>\n",
       "      <td>3.480167e+01</td>\n",
       "      <td>7.330163e+01</td>\n",
       "      <td>1.205895e+02</td>\n",
       "      <td>2.000721e+01</td>\n",
       "      <td>1.559499e+01</td>\n",
       "      <td>...</td>\n",
       "      <td>2.720284e+01</td>\n",
       "      <td>1.050309e+01</td>\n",
       "      <td>2.252841e+01</td>\n",
       "      <td>4.584549e+00</td>\n",
       "      <td>7.519589e+00</td>\n",
       "      <td>3.517346e+00</td>\n",
       "      <td>3.161220e+01</td>\n",
       "      <td>3.384781e+01</td>\n",
       "      <td>25691.160000</td>\n",
       "      <td>1.000000</td>\n",
       "    </tr>\n",
       "  </tbody>\n",
       "</table>\n",
       "<p>8 rows × 31 columns</p>\n",
       "</div>"
      ],
      "text/plain": [
       "                Time            V1            V2            V3            V4  \\\n",
       "count  284807.000000  2.848070e+05  2.848070e+05  2.848070e+05  2.848070e+05   \n",
       "mean    94813.859575  1.168375e-15  3.416908e-16 -1.379537e-15  2.074095e-15   \n",
       "std     47488.145955  1.958696e+00  1.651309e+00  1.516255e+00  1.415869e+00   \n",
       "min         0.000000 -5.640751e+01 -7.271573e+01 -4.832559e+01 -5.683171e+00   \n",
       "25%     54201.500000 -9.203734e-01 -5.985499e-01 -8.903648e-01 -8.486401e-01   \n",
       "50%     84692.000000  1.810880e-02  6.548556e-02  1.798463e-01 -1.984653e-02   \n",
       "75%    139320.500000  1.315642e+00  8.037239e-01  1.027196e+00  7.433413e-01   \n",
       "max    172792.000000  2.454930e+00  2.205773e+01  9.382558e+00  1.687534e+01   \n",
       "\n",
       "                 V5            V6            V7            V8            V9  \\\n",
       "count  2.848070e+05  2.848070e+05  2.848070e+05  2.848070e+05  2.848070e+05   \n",
       "mean   9.604066e-16  1.487313e-15 -5.556467e-16  1.213481e-16 -2.406331e-15   \n",
       "std    1.380247e+00  1.332271e+00  1.237094e+00  1.194353e+00  1.098632e+00   \n",
       "min   -1.137433e+02 -2.616051e+01 -4.355724e+01 -7.321672e+01 -1.343407e+01   \n",
       "25%   -6.915971e-01 -7.682956e-01 -5.540759e-01 -2.086297e-01 -6.430976e-01   \n",
       "50%   -5.433583e-02 -2.741871e-01  4.010308e-02  2.235804e-02 -5.142873e-02   \n",
       "75%    6.119264e-01  3.985649e-01  5.704361e-01  3.273459e-01  5.971390e-01   \n",
       "max    3.480167e+01  7.330163e+01  1.205895e+02  2.000721e+01  1.559499e+01   \n",
       "\n",
       "       ...           V21           V22           V23           V24  \\\n",
       "count  ...  2.848070e+05  2.848070e+05  2.848070e+05  2.848070e+05   \n",
       "mean   ...  1.654067e-16 -3.568593e-16  2.578648e-16  4.473266e-15   \n",
       "std    ...  7.345240e-01  7.257016e-01  6.244603e-01  6.056471e-01   \n",
       "min    ... -3.483038e+01 -1.093314e+01 -4.480774e+01 -2.836627e+00   \n",
       "25%    ... -2.283949e-01 -5.423504e-01 -1.618463e-01 -3.545861e-01   \n",
       "50%    ... -2.945017e-02  6.781943e-03 -1.119293e-02  4.097606e-02   \n",
       "75%    ...  1.863772e-01  5.285536e-01  1.476421e-01  4.395266e-01   \n",
       "max    ...  2.720284e+01  1.050309e+01  2.252841e+01  4.584549e+00   \n",
       "\n",
       "                V25           V26           V27           V28         Amount  \\\n",
       "count  2.848070e+05  2.848070e+05  2.848070e+05  2.848070e+05  284807.000000   \n",
       "mean   5.340915e-16  1.683437e-15 -3.660091e-16 -1.227390e-16      88.349619   \n",
       "std    5.212781e-01  4.822270e-01  4.036325e-01  3.300833e-01     250.120109   \n",
       "min   -1.029540e+01 -2.604551e+00 -2.256568e+01 -1.543008e+01       0.000000   \n",
       "25%   -3.171451e-01 -3.269839e-01 -7.083953e-02 -5.295979e-02       5.600000   \n",
       "50%    1.659350e-02 -5.213911e-02  1.342146e-03  1.124383e-02      22.000000   \n",
       "75%    3.507156e-01  2.409522e-01  9.104512e-02  7.827995e-02      77.165000   \n",
       "max    7.519589e+00  3.517346e+00  3.161220e+01  3.384781e+01   25691.160000   \n",
       "\n",
       "               Class  \n",
       "count  284807.000000  \n",
       "mean        0.001727  \n",
       "std         0.041527  \n",
       "min         0.000000  \n",
       "25%         0.000000  \n",
       "50%         0.000000  \n",
       "75%         0.000000  \n",
       "max         1.000000  \n",
       "\n",
       "[8 rows x 31 columns]"
      ]
     },
     "execution_count": 6,
     "metadata": {},
     "output_type": "execute_result"
    }
   ],
   "source": [
    "data.describe()"
   ]
  },
  {
   "cell_type": "code",
   "execution_count": 7,
   "id": "813d42d0",
   "metadata": {
    "execution": {
     "iopub.execute_input": "2022-06-17T08:51:52.865777Z",
     "iopub.status.busy": "2022-06-17T08:51:52.864585Z",
     "iopub.status.idle": "2022-06-17T08:51:52.902320Z",
     "shell.execute_reply": "2022-06-17T08:51:52.901293Z"
    },
    "papermill": {
     "duration": 0.050125,
     "end_time": "2022-06-17T08:51:52.904797",
     "exception": false,
     "start_time": "2022-06-17T08:51:52.854672",
     "status": "completed"
    },
    "tags": []
   },
   "outputs": [
    {
     "name": "stdout",
     "output_type": "stream",
     "text": [
      "<class 'pandas.core.frame.DataFrame'>\n",
      "RangeIndex: 284807 entries, 0 to 284806\n",
      "Data columns (total 31 columns):\n",
      " #   Column  Non-Null Count   Dtype  \n",
      "---  ------  --------------   -----  \n",
      " 0   Time    284807 non-null  float64\n",
      " 1   V1      284807 non-null  float64\n",
      " 2   V2      284807 non-null  float64\n",
      " 3   V3      284807 non-null  float64\n",
      " 4   V4      284807 non-null  float64\n",
      " 5   V5      284807 non-null  float64\n",
      " 6   V6      284807 non-null  float64\n",
      " 7   V7      284807 non-null  float64\n",
      " 8   V8      284807 non-null  float64\n",
      " 9   V9      284807 non-null  float64\n",
      " 10  V10     284807 non-null  float64\n",
      " 11  V11     284807 non-null  float64\n",
      " 12  V12     284807 non-null  float64\n",
      " 13  V13     284807 non-null  float64\n",
      " 14  V14     284807 non-null  float64\n",
      " 15  V15     284807 non-null  float64\n",
      " 16  V16     284807 non-null  float64\n",
      " 17  V17     284807 non-null  float64\n",
      " 18  V18     284807 non-null  float64\n",
      " 19  V19     284807 non-null  float64\n",
      " 20  V20     284807 non-null  float64\n",
      " 21  V21     284807 non-null  float64\n",
      " 22  V22     284807 non-null  float64\n",
      " 23  V23     284807 non-null  float64\n",
      " 24  V24     284807 non-null  float64\n",
      " 25  V25     284807 non-null  float64\n",
      " 26  V26     284807 non-null  float64\n",
      " 27  V27     284807 non-null  float64\n",
      " 28  V28     284807 non-null  float64\n",
      " 29  Amount  284807 non-null  float64\n",
      " 30  Class   284807 non-null  int64  \n",
      "dtypes: float64(30), int64(1)\n",
      "memory usage: 67.4 MB\n"
     ]
    }
   ],
   "source": [
    "data.info()"
   ]
  },
  {
   "cell_type": "code",
   "execution_count": 8,
   "id": "5c702501",
   "metadata": {
    "execution": {
     "iopub.execute_input": "2022-06-17T08:51:52.923510Z",
     "iopub.status.busy": "2022-06-17T08:51:52.922547Z",
     "iopub.status.idle": "2022-06-17T08:51:52.942755Z",
     "shell.execute_reply": "2022-06-17T08:51:52.941906Z"
    },
    "papermill": {
     "duration": 0.031795,
     "end_time": "2022-06-17T08:51:52.944917",
     "exception": false,
     "start_time": "2022-06-17T08:51:52.913122",
     "status": "completed"
    },
    "tags": []
   },
   "outputs": [
    {
     "data": {
      "text/plain": [
       "False"
      ]
     },
     "execution_count": 8,
     "metadata": {},
     "output_type": "execute_result"
    }
   ],
   "source": [
    "data.isna().values.any()"
   ]
  },
  {
   "cell_type": "markdown",
   "id": "72898e59",
   "metadata": {
    "papermill": {
     "duration": 0.008213,
     "end_time": "2022-06-17T08:51:52.961415",
     "exception": false,
     "start_time": "2022-06-17T08:51:52.953202",
     "status": "completed"
    },
    "tags": []
   },
   "source": [
    "---\n",
    "While having a look at the maximum and minimum of Amount, I found that the difference was huge which can result in outlier formations causing deviations in results and predictions. So here I considered that using StandardScaler would be a good way to fix it."
   ]
  },
  {
   "cell_type": "code",
   "execution_count": 9,
   "id": "dc4bb297",
   "metadata": {
    "execution": {
     "iopub.execute_input": "2022-06-17T08:51:52.980077Z",
     "iopub.status.busy": "2022-06-17T08:51:52.979419Z",
     "iopub.status.idle": "2022-06-17T08:51:52.987358Z",
     "shell.execute_reply": "2022-06-17T08:51:52.986442Z"
    },
    "papermill": {
     "duration": 0.019425,
     "end_time": "2022-06-17T08:51:52.989342",
     "exception": false,
     "start_time": "2022-06-17T08:51:52.969917",
     "status": "completed"
    },
    "tags": []
   },
   "outputs": [
    {
     "data": {
      "text/plain": [
       "(0.0, 25691.16)"
      ]
     },
     "execution_count": 9,
     "metadata": {},
     "output_type": "execute_result"
    }
   ],
   "source": [
    "data[\"Amount\"].min(), data[\"Amount\"].max()"
   ]
  },
  {
   "cell_type": "code",
   "execution_count": 10,
   "id": "6dd71504",
   "metadata": {
    "execution": {
     "iopub.execute_input": "2022-06-17T08:51:53.009492Z",
     "iopub.status.busy": "2022-06-17T08:51:53.008589Z",
     "iopub.status.idle": "2022-06-17T08:51:53.139209Z",
     "shell.execute_reply": "2022-06-17T08:51:53.138445Z"
    },
    "papermill": {
     "duration": 0.143001,
     "end_time": "2022-06-17T08:51:53.141489",
     "exception": false,
     "start_time": "2022-06-17T08:51:52.998488",
     "status": "completed"
    },
    "tags": []
   },
   "outputs": [],
   "source": [
    "from sklearn.preprocessing import StandardScaler\n",
    "sc = StandardScaler()\n",
    "amount = data[\"Amount\"].values\n",
    "data[\"Amount\"] =sc.fit_transform(amount.reshape(-1, 1))"
   ]
  },
  {
   "cell_type": "code",
   "execution_count": 11,
   "id": "1792bcc0",
   "metadata": {
    "execution": {
     "iopub.execute_input": "2022-06-17T08:51:53.161009Z",
     "iopub.status.busy": "2022-06-17T08:51:53.160553Z",
     "iopub.status.idle": "2022-06-17T08:51:53.189924Z",
     "shell.execute_reply": "2022-06-17T08:51:53.188918Z"
    },
    "papermill": {
     "duration": 0.041895,
     "end_time": "2022-06-17T08:51:53.192036",
     "exception": false,
     "start_time": "2022-06-17T08:51:53.150141",
     "status": "completed"
    },
    "tags": []
   },
   "outputs": [],
   "source": [
    "data.drop([\"Time\"], axis = 1, inplace = True)"
   ]
  },
  {
   "cell_type": "code",
   "execution_count": 12,
   "id": "619ef6e9",
   "metadata": {
    "execution": {
     "iopub.execute_input": "2022-06-17T08:51:53.210852Z",
     "iopub.status.busy": "2022-06-17T08:51:53.210455Z",
     "iopub.status.idle": "2022-06-17T08:51:53.215826Z",
     "shell.execute_reply": "2022-06-17T08:51:53.215054Z"
    },
    "papermill": {
     "duration": 0.01675,
     "end_time": "2022-06-17T08:51:53.217600",
     "exception": false,
     "start_time": "2022-06-17T08:51:53.200850",
     "status": "completed"
    },
    "tags": []
   },
   "outputs": [
    {
     "data": {
      "text/plain": [
       "(284807, 30)"
      ]
     },
     "execution_count": 12,
     "metadata": {},
     "output_type": "execute_result"
    }
   ],
   "source": [
    "data.shape"
   ]
  },
  {
   "cell_type": "code",
   "execution_count": 13,
   "id": "a436c819",
   "metadata": {
    "execution": {
     "iopub.execute_input": "2022-06-17T08:51:53.236675Z",
     "iopub.status.busy": "2022-06-17T08:51:53.236248Z",
     "iopub.status.idle": "2022-06-17T08:51:54.327526Z",
     "shell.execute_reply": "2022-06-17T08:51:54.326190Z"
    },
    "papermill": {
     "duration": 1.103856,
     "end_time": "2022-06-17T08:51:54.330032",
     "exception": false,
     "start_time": "2022-06-17T08:51:53.226176",
     "status": "completed"
    },
    "tags": []
   },
   "outputs": [
    {
     "data": {
      "text/plain": [
       "(275663, 30)"
      ]
     },
     "execution_count": 13,
     "metadata": {},
     "output_type": "execute_result"
    }
   ],
   "source": [
    "data.drop_duplicates(inplace=True)\n",
    "data.shape"
   ]
  },
  {
   "cell_type": "markdown",
   "id": "5ab5c8a9",
   "metadata": {
    "papermill": {
     "duration": 0.009067,
     "end_time": "2022-06-17T08:51:54.348374",
     "exception": false,
     "start_time": "2022-06-17T08:51:54.339307",
     "status": "completed"
    },
    "tags": []
   },
   "source": [
    "So around 9150 duplicate transactions were removed from the dataset.\n"
   ]
  },
  {
   "cell_type": "markdown",
   "id": "51045d31",
   "metadata": {
    "papermill": {
     "duration": 0.008931,
     "end_time": "2022-06-17T08:51:54.366666",
     "exception": false,
     "start_time": "2022-06-17T08:51:54.357735",
     "status": "completed"
    },
    "tags": []
   },
   "source": [
    "---\n",
    "We will define the data and target sets and also make a 70:30 train test split."
   ]
  },
  {
   "cell_type": "code",
   "execution_count": 14,
   "id": "4593b286",
   "metadata": {
    "execution": {
     "iopub.execute_input": "2022-06-17T08:51:54.388228Z",
     "iopub.status.busy": "2022-06-17T08:51:54.386233Z",
     "iopub.status.idle": "2022-06-17T08:51:54.576558Z",
     "shell.execute_reply": "2022-06-17T08:51:54.575841Z"
    },
    "papermill": {
     "duration": 0.202993,
     "end_time": "2022-06-17T08:51:54.578932",
     "exception": false,
     "start_time": "2022-06-17T08:51:54.375939",
     "status": "completed"
    },
    "tags": []
   },
   "outputs": [],
   "source": [
    "from sklearn.model_selection import train_test_split\n",
    "\n",
    "x = data.drop('Class', axis=1).values\n",
    "y = data['Class'].values\n",
    "\n",
    "x_train, x_test, y_train, y_test = train_test_split(x, y, test_size = 0.3, random_state=1)"
   ]
  },
  {
   "cell_type": "code",
   "execution_count": 15,
   "id": "6112f603",
   "metadata": {
    "execution": {
     "iopub.execute_input": "2022-06-17T08:51:54.599435Z",
     "iopub.status.busy": "2022-06-17T08:51:54.599033Z",
     "iopub.status.idle": "2022-06-17T08:51:54.602826Z",
     "shell.execute_reply": "2022-06-17T08:51:54.601994Z"
    },
    "papermill": {
     "duration": 0.016085,
     "end_time": "2022-06-17T08:51:54.604592",
     "exception": false,
     "start_time": "2022-06-17T08:51:54.588507",
     "status": "completed"
    },
    "tags": []
   },
   "outputs": [],
   "source": [
    "# import pip\n",
    "# pip.main(['install', 'xgboost'])"
   ]
  },
  {
   "cell_type": "markdown",
   "id": "459a12db",
   "metadata": {
    "papermill": {
     "duration": 0.008892,
     "end_time": "2022-06-17T08:51:54.622719",
     "exception": false,
     "start_time": "2022-06-17T08:51:54.613827",
     "status": "completed"
    },
    "tags": []
   },
   "source": [
    "---\n",
    "Majorly I know 5 classification algorithms so I have implimented all the 5 algorithms, trained them and then compared their accuracy scores and F1 scores of the top performing algorithms. Which inturn will lead to a single most accurate algorithm."
   ]
  },
  {
   "cell_type": "code",
   "execution_count": 16,
   "id": "966a7f0a",
   "metadata": {
    "execution": {
     "iopub.execute_input": "2022-06-17T08:51:54.643157Z",
     "iopub.status.busy": "2022-06-17T08:51:54.642725Z",
     "iopub.status.idle": "2022-06-17T09:00:11.144864Z",
     "shell.execute_reply": "2022-06-17T09:00:11.144016Z"
    },
    "papermill": {
     "duration": 496.515768,
     "end_time": "2022-06-17T09:00:11.147871",
     "exception": false,
     "start_time": "2022-06-17T08:51:54.632103",
     "status": "completed"
    },
    "tags": []
   },
   "outputs": [],
   "source": [
    "from sklearn.linear_model import LogisticRegression\n",
    "from sklearn.svm import SVC\n",
    "from sklearn.naive_bayes import GaussianNB\n",
    "from sklearn.ensemble import RandomForestClassifier\n",
    "from xgboost import XGBClassifier\n",
    "\n",
    "logreg = LogisticRegression().fit(x_train, y_train)\n",
    "svm_model = SVC().fit(x_train, y_train)\n",
    "nb_model = GaussianNB().fit(x_train, y_train)\n",
    "rfc_model = RandomForestClassifier().fit(x_train, y_train)\n",
    "xgb_model = XGBClassifier().fit(x_train, y_train)"
   ]
  },
  {
   "cell_type": "code",
   "execution_count": 17,
   "id": "df77c394",
   "metadata": {
    "execution": {
     "iopub.execute_input": "2022-06-17T09:00:11.171944Z",
     "iopub.status.busy": "2022-06-17T09:00:11.171432Z",
     "iopub.status.idle": "2022-06-17T09:00:29.543247Z",
     "shell.execute_reply": "2022-06-17T09:00:29.542410Z"
    },
    "papermill": {
     "duration": 18.385701,
     "end_time": "2022-06-17T09:00:29.545820",
     "exception": false,
     "start_time": "2022-06-17T09:00:11.160119",
     "status": "completed"
    },
    "tags": []
   },
   "outputs": [
    {
     "name": "stdout",
     "output_type": "stream",
     "text": [
      "Logistic Regression Accuracy Score =  0.9990568205177813\n",
      "SVM Classifier Accuracy Score =  0.9993470295892333\n",
      "Naive Baye's Accuracy Score =  0.9774120606053277\n",
      "RandomForestClassifier Accuracy Score =  0.9994558579910277\n",
      "XGB Classifier Accuracy Score =  0.9995405023035345\n"
     ]
    }
   ],
   "source": [
    "#Accuracy scores of respective models\n",
    "from sklearn.metrics import accuracy_score\n",
    "\n",
    "print(\"Logistic Regression Accuracy Score = \",accuracy_score(y_test, logreg.predict(x_test)))\n",
    "print(\"SVM Classifier Accuracy Score = \",accuracy_score(y_test, svm_model.predict(x_test)))\n",
    "print(\"Naive Baye's Accuracy Score = \",accuracy_score(y_test, nb_model.predict(x_test)))\n",
    "print(\"RandomForestClassifier Accuracy Score = \",accuracy_score(y_test, rfc_model.predict(x_test)))\n",
    "print(\"XGB Classifier Accuracy Score = \",accuracy_score(y_test, xgb_model.predict(x_test)))"
   ]
  },
  {
   "cell_type": "code",
   "execution_count": 18,
   "id": "553ba3a2",
   "metadata": {
    "execution": {
     "iopub.execute_input": "2022-06-17T09:00:29.567259Z",
     "iopub.status.busy": "2022-06-17T09:00:29.566863Z",
     "iopub.status.idle": "2022-06-17T09:00:47.702238Z",
     "shell.execute_reply": "2022-06-17T09:00:47.701571Z"
    },
    "papermill": {
     "duration": 18.148911,
     "end_time": "2022-06-17T09:00:47.704801",
     "exception": false,
     "start_time": "2022-06-17T09:00:29.555890",
     "status": "completed"
    },
    "tags": []
   },
   "outputs": [
    {
     "name": "stdout",
     "output_type": "stream",
     "text": [
      "SVM CLassifier F1 Score =  0.7768595041322313\n",
      "RandomForestClassifier F1 Score =  0.823529411764706\n",
      "XGB Classifier F1 Score =  0.8527131782945736\n"
     ]
    }
   ],
   "source": [
    "from sklearn.metrics import f1_score\n",
    "print(\"SVM CLassifier F1 Score = \", f1_score(y_test, svm_model.predict(x_test)))\n",
    "print(\"RandomForestClassifier F1 Score = \", f1_score(y_test, rfc_model.predict(x_test)))\n",
    "print(\"XGB Classifier F1 Score = \", f1_score(y_test, xgb_model.predict(x_test)))"
   ]
  },
  {
   "cell_type": "markdown",
   "id": "35c97dd6",
   "metadata": {
    "papermill": {
     "duration": 0.009743,
     "end_time": "2022-06-17T09:00:47.726271",
     "exception": false,
     "start_time": "2022-06-17T09:00:47.716528",
     "status": "completed"
    },
    "tags": []
   },
   "source": [
    "On comparing the accuracy scores we found that XGB Classifier has is the most accurate classifier and then verifying it with comparison of F1-scores, we can conclude that XGB-Classifier is the best for our case."
   ]
  },
  {
   "cell_type": "code",
   "execution_count": 19,
   "id": "8b5604c0",
   "metadata": {
    "execution": {
     "iopub.execute_input": "2022-06-17T09:00:47.748899Z",
     "iopub.status.busy": "2022-06-17T09:00:47.747971Z",
     "iopub.status.idle": "2022-06-17T09:00:48.054177Z",
     "shell.execute_reply": "2022-06-17T09:00:48.052964Z"
    },
    "papermill": {
     "duration": 0.319562,
     "end_time": "2022-06-17T09:00:48.056215",
     "exception": false,
     "start_time": "2022-06-17T09:00:47.736653",
     "status": "completed"
    },
    "tags": []
   },
   "outputs": [
    {
     "name": "stdout",
     "output_type": "stream",
     "text": [
      "[[  110    35]\n",
      " [    3 82551]]\n",
      "              precision    recall  f1-score   support\n",
      "\n",
      "           1       0.97      0.76      0.85       145\n",
      "           0       1.00      1.00      1.00     82554\n",
      "\n",
      "    accuracy                           1.00     82699\n",
      "   macro avg       0.99      0.88      0.93     82699\n",
      "weighted avg       1.00      1.00      1.00     82699\n",
      "\n"
     ]
    }
   ],
   "source": [
    "from sklearn.metrics import confusion_matrix, classification_report\n",
    "y_pred = xgb_model.predict(x_test)\n",
    "print(confusion_matrix(y_test, y_pred, labels=[1,0]))\n",
    "print(classification_report(y_test, y_pred, labels=[1,0]))"
   ]
  },
  {
   "cell_type": "markdown",
   "id": "84f87395",
   "metadata": {
    "papermill": {
     "duration": 0.009723,
     "end_time": "2022-06-17T09:00:48.075771",
     "exception": false,
     "start_time": "2022-06-17T09:00:48.066048",
     "status": "completed"
    },
    "tags": []
   },
   "source": [
    "The good thing that we can notice from the confusion matrix is that our model is not overfit."
   ]
  }
 ],
 "metadata": {
  "kernelspec": {
   "display_name": "Python 3",
   "language": "python",
   "name": "python3"
  },
  "language_info": {
   "codemirror_mode": {
    "name": "ipython",
    "version": 3
   },
   "file_extension": ".py",
   "mimetype": "text/x-python",
   "name": "python",
   "nbconvert_exporter": "python",
   "pygments_lexer": "ipython3",
   "version": "3.7.12"
  },
  "papermill": {
   "default_parameters": {},
   "duration": 554.027434,
   "end_time": "2022-06-17T09:00:48.908566",
   "environment_variables": {},
   "exception": null,
   "input_path": "__notebook__.ipynb",
   "output_path": "__notebook__.ipynb",
   "parameters": {},
   "start_time": "2022-06-17T08:51:34.881132",
   "version": "2.3.4"
  }
 },
 "nbformat": 4,
 "nbformat_minor": 5
}
